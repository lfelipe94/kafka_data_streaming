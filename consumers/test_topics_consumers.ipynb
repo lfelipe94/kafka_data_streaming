{
 "cells": [
  {
   "cell_type": "code",
   "execution_count": 6,
   "id": "0f77899e",
   "metadata": {
    "editable": true
   },
   "outputs": [],
   "source": [
    "from confluent_kafka import Consumer\n",
    "\n",
    "def peek_json(topic, n=5):\n",
    "    c = Consumer({\n",
    "        \"bootstrap.servers\": \"localhost:9092\",\n",
    "        \"group.id\": f\"peek-{topic}\",\n",
    "        \"auto.offset.reset\": \"earliest\",\n",
    "    })\n",
    "    c.subscribe([topic])\n",
    "    print(f\"--- {topic} ---\")\n",
    "    seen = 0\n",
    "    while seen < n:\n",
    "        msg = c.poll(5.0)\n",
    "        if msg is None:\n",
    "            print(\"  (no hay mensajes)\")\n",
    "            break\n",
    "        if msg.error():\n",
    "            print(\"  error:\", msg.error())\n",
    "            break\n",
    "        print(msg.value().decode(\"utf-8\"))\n",
    "        seen += 1\n",
    "    c.close()"
   ]
  },
  {
   "cell_type": "code",
   "execution_count": 7,
   "id": "3889ae9e",
   "metadata": {
    "editable": true
   },
   "outputs": [],
   "source": [
    "from confluent_kafka.avro import AvroConsumer\n",
    "\n",
    "def peek_avro(topic, n=5):\n",
    "    c = AvroConsumer({\n",
    "        \"bootstrap.servers\": \"localhost:9092\",\n",
    "        \"group.id\": f\"peek-{topic}\",\n",
    "        \"auto.offset.reset\": \"earliest\",\n",
    "        \"schema.registry.url\": \"http://localhost:8081\",\n",
    "    })\n",
    "    c.subscribe([topic])\n",
    "    print(f\"--- {topic} ---\")\n",
    "    seen = 0\n",
    "    while seen < n:\n",
    "        msg = c.poll(5.0)\n",
    "        if msg is None:\n",
    "            print(\"  (no hay mensajes)\")\n",
    "            break\n",
    "        if msg.error():\n",
    "            print(\"  error:\", msg.error())\n",
    "            break\n",
    "        print(msg.value())  # ya viene deserializado como dict\n",
    "        seen += 1\n",
    "    c.close()\n"
   ]
  },
  {
   "cell_type": "code",
   "execution_count": 8,
   "id": "d65c6929",
   "metadata": {
    "editable": true
   },
   "outputs": [
    {
     "name": "stdout",
     "output_type": "stream",
     "text": [
      "--- org.chicago.cta.station.arrivals.v1 ---\n",
      "  (no hay mensajes)\n"
     ]
    },
    {
     "name": "stderr",
     "output_type": "stream",
     "text": [
      "%5|1756756509.625|REQTMOUT|rdkafka#consumer-6| [thrd:GroupCoordinator]: GroupCoordinator/1: Timed out LeaveGroupRequest in flight (after 5007ms, timeout #0): possibly held back by preceeding blocking JoinGroupRequest with timeout in 295990ms\n",
      "%4|1756756509.625|REQTMOUT|rdkafka#consumer-6| [thrd:GroupCoordinator]: GroupCoordinator/1: Timed out 1 in-flight, 0 retry-queued, 0 out-queue, 0 partially-sent requests\n"
     ]
    }
   ],
   "source": [
    "peek_avro(\"org.chicago.cta.station.arrivals.v1\")"
   ]
  },
  {
   "cell_type": "code",
   "execution_count": 9,
   "id": "d593aa63",
   "metadata": {
    "editable": true
   },
   "outputs": [
    {
     "name": "stdout",
     "output_type": "stream",
     "text": [
      "--- org.chicago.cta.stations ---\n",
      "  (no hay mensajes)\n"
     ]
    },
    {
     "name": "stderr",
     "output_type": "stream",
     "text": [
      "%5|1756756538.224|REQTMOUT|rdkafka#consumer-7| [thrd:GroupCoordinator]: GroupCoordinator/1: Timed out LeaveGroupRequest in flight (after 5007ms, timeout #0): possibly held back by preceeding blocking JoinGroupRequest with timeout in 295991ms\n",
      "%4|1756756538.224|REQTMOUT|rdkafka#consumer-7| [thrd:GroupCoordinator]: GroupCoordinator/1: Timed out 1 in-flight, 0 retry-queued, 0 out-queue, 0 partially-sent requests\n"
     ]
    }
   ],
   "source": [
    "peek_json(\"org.chicago.cta.stations\")"
   ]
  },
  {
   "cell_type": "code",
   "execution_count": 3,
   "id": "68686686",
   "metadata": {
    "editable": true
   },
   "outputs": [
    {
     "name": "stdout",
     "output_type": "stream",
     "text": [
      "--- org.chicago.cta.station.arrivals.v1 ---\n",
      "  (no hay mensajes)\n",
      "--- org.chicago.cta.turnstile.entries.v1 ---\n",
      "  (no hay mensajes)\n"
     ]
    }
   ],
   "source": [
    "peek(\"org.chicago.cta.station.arrivals.v1\")\n",
    "peek(\"org.chicago.cta.turnstile.entries.v1\")"
   ]
  },
  {
   "cell_type": "code",
   "execution_count": null,
   "id": "f536275a",
   "metadata": {
    "editable": true
   },
   "outputs": [],
   "source": []
  },
  {
   "cell_type": "code",
   "execution_count": 4,
   "id": "ec718c24",
   "metadata": {
    "editable": true
   },
   "outputs": [
    {
     "name": "stdout",
     "output_type": "stream",
     "text": [
      "--- TURNSTILE_SUMMARY ---\n",
      "  (no hay mensajes)\n"
     ]
    }
   ],
   "source": [
    "peek(\"TURNSTILE_SUMMARY\")"
   ]
  },
  {
   "cell_type": "code",
   "execution_count": null,
   "id": "8f999e44",
   "metadata": {
    "editable": true
   },
   "outputs": [],
   "source": []
  }
 ],
 "metadata": {
  "kernelspec": {
   "display_name": "Python 3 (ipykernel)",
   "language": "python",
   "name": "python3"
  },
  "language_info": {
   "codemirror_mode": {
    "name": "ipython",
    "version": 3
   },
   "file_extension": ".py",
   "mimetype": "text/x-python",
   "name": "python",
   "nbconvert_exporter": "python",
   "pygments_lexer": "ipython3",
   "version": "3.7.3"
  }
 },
 "nbformat": 4,
 "nbformat_minor": 5
}
