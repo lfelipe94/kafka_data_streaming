{
 "cells": [
  {
   "cell_type": "code",
   "execution_count": 2,
   "id": "65a820bf",
   "metadata": {
    "editable": true
   },
   "outputs": [
    {
     "name": "stdout",
     "output_type": "stream",
     "text": [
      "Topics: ['_schemas', 'connect-configs', '_confluent-ksql-default_query_CTAS_TURNSTILE_SUMMARY_0-KSTREAM-AGGREGATE-STATE-STORE-0000000006-repartition', '_confluent-ksql-default__command_topic', '_confluent-ksql-default_query_CTAS_TURNSTILE_SUMMARY_0-KSTREAM-AGGREGATE-STATE-STORE-0000000006-changelog', 'com.udacity.streams.pages', 'org.chicago.cta.stations.table.v1', '_confluent-monitoring', 'connect-status', 'connect-offsets', '__consumer_offsets', 'stations-stream-__assignor-__leader', 'TURNSTILE_SUMMARY', 'com.udacity.streams.users', 'org.chicago.cta.stations', '_confluent-metrics', 'com.udacity.streams.clickevents', 'org.chicago.cta.station.arrivals.v1', 'com.udacity.streams.purchases', '__confluent.support.metrics']\n",
      "org.chicago.cta.station.arrivals.v1 partitions: 3\n"
     ]
    }
   ],
   "source": [
    "from confluent_kafka.admin import AdminClient\n",
    "\n",
    "admin = AdminClient({\"bootstrap.servers\": \"localhost:9092\"})\n",
    "md = admin.list_topics(timeout=5)\n",
    "print(\"Topics:\", list(md.topics.keys())[:20])  # muestra algunos\n",
    "\n",
    "t = \"org.chicago.cta.station.arrivals.v1\"\n",
    "if t in md.topics:\n",
    "    tm = md.topics[t]\n",
    "    print(f\"{t} partitions:\", len(tm.partitions))\n",
    "else:\n",
    "    print(\"El tópico no existe:\", t)"
   ]
  },
  {
   "cell_type": "code",
   "execution_count": 4,
   "id": "6ee0fea3",
   "metadata": {
    "editable": true
   },
   "outputs": [
    {
     "ename": "KafkaException",
     "evalue": "KafkaError{code=_STATE,val=-172,str=\"Failed to seek to offset 0: Local: Erroneous state\"}",
     "output_type": "error",
     "traceback": [
      "\u001b[0;31m---------------------------------------------------------------------------\u001b[0m",
      "\u001b[0;31mKafkaException\u001b[0m                            Traceback (most recent call last)",
      "\u001b[0;32m/tmp/ipykernel_1475/1278306698.py\u001b[0m in \u001b[0;36m<module>\u001b[0;34m\u001b[0m\n\u001b[1;32m     31\u001b[0m     \u001b[0mc\u001b[0m\u001b[0;34m.\u001b[0m\u001b[0mclose\u001b[0m\u001b[0;34m(\u001b[0m\u001b[0;34m)\u001b[0m\u001b[0;34m\u001b[0m\u001b[0;34m\u001b[0m\u001b[0m\n\u001b[1;32m     32\u001b[0m \u001b[0;34m\u001b[0m\u001b[0m\n\u001b[0;32m---> 33\u001b[0;31m \u001b[0mread_from_beginning\u001b[0m\u001b[0;34m(\u001b[0m\u001b[0;34m\"org.chicago.cta.station.arrivals.v1\"\u001b[0m\u001b[0;34m,\u001b[0m \u001b[0mpartition\u001b[0m\u001b[0;34m=\u001b[0m\u001b[0;36m0\u001b[0m\u001b[0;34m,\u001b[0m \u001b[0mmax_msgs\u001b[0m\u001b[0;34m=\u001b[0m\u001b[0;36m5\u001b[0m\u001b[0;34m)\u001b[0m\u001b[0;34m\u001b[0m\u001b[0;34m\u001b[0m\u001b[0m\n\u001b[0m",
      "\u001b[0;32m/tmp/ipykernel_1475/1278306698.py\u001b[0m in \u001b[0;36mread_from_beginning\u001b[0;34m(topic, partition, max_msgs, timeout)\u001b[0m\n\u001b[1;32m     12\u001b[0m     \u001b[0;31m# mover a earliest manualmente\u001b[0m\u001b[0;34m\u001b[0m\u001b[0;34m\u001b[0m\u001b[0;34m\u001b[0m\u001b[0m\n\u001b[1;32m     13\u001b[0m     \u001b[0mlow\u001b[0m\u001b[0;34m,\u001b[0m \u001b[0mhigh\u001b[0m \u001b[0;34m=\u001b[0m \u001b[0mc\u001b[0m\u001b[0;34m.\u001b[0m\u001b[0mget_watermark_offsets\u001b[0m\u001b[0;34m(\u001b[0m\u001b[0mtp\u001b[0m\u001b[0;34m,\u001b[0m \u001b[0mtimeout\u001b[0m\u001b[0;34m=\u001b[0m\u001b[0;36m5.0\u001b[0m\u001b[0;34m)\u001b[0m\u001b[0;34m\u001b[0m\u001b[0;34m\u001b[0m\u001b[0m\n\u001b[0;32m---> 14\u001b[0;31m     \u001b[0mc\u001b[0m\u001b[0;34m.\u001b[0m\u001b[0mseek\u001b[0m\u001b[0;34m(\u001b[0m\u001b[0mTopicPartition\u001b[0m\u001b[0;34m(\u001b[0m\u001b[0mtopic\u001b[0m\u001b[0;34m,\u001b[0m \u001b[0mpartition\u001b[0m\u001b[0;34m,\u001b[0m \u001b[0mlow\u001b[0m\u001b[0;34m)\u001b[0m\u001b[0;34m)\u001b[0m\u001b[0;34m\u001b[0m\u001b[0;34m\u001b[0m\u001b[0m\n\u001b[0m\u001b[1;32m     15\u001b[0m     \u001b[0mprint\u001b[0m\u001b[0;34m(\u001b[0m\u001b[0;34mf\"Watermarks {topic}[{partition}]: low={low}, high={high}\"\u001b[0m\u001b[0;34m)\u001b[0m\u001b[0;34m\u001b[0m\u001b[0;34m\u001b[0m\u001b[0m\n\u001b[1;32m     16\u001b[0m \u001b[0;34m\u001b[0m\u001b[0m\n",
      "\u001b[0;31mKafkaException\u001b[0m: KafkaError{code=_STATE,val=-172,str=\"Failed to seek to offset 0: Local: Erroneous state\"}"
     ]
    }
   ],
   "source": [
    "from confluent_kafka import Consumer, TopicPartition\n",
    "\n",
    "def read_from_beginning(topic, partition=0, max_msgs=10, timeout=5.0):\n",
    "    c = Consumer({\n",
    "        \"bootstrap.servers\": \"localhost:9092\",\n",
    "        \"group.id\": \"ad-hoc-reader\",   # no importa, no committeamos\n",
    "        \"enable.auto.commit\": False,\n",
    "        \"auto.offset.reset\": \"earliest\",\n",
    "    })\n",
    "    tp = TopicPartition(topic, partition)\n",
    "    c.assign([tp])\n",
    "    # mover a earliest manualmente\n",
    "    low, high = c.get_watermark_offsets(tp, timeout=5.0)\n",
    "    c.seek(TopicPartition(topic, partition, low))\n",
    "    print(f\"Watermarks {topic}[{partition}]: low={low}, high={high}\")\n",
    "\n",
    "    seen = 0\n",
    "    while seen < max_msgs:\n",
    "        msg = c.poll(timeout)\n",
    "        if msg is None:\n",
    "            print(\"(timeout, no hay más mensajes)\")\n",
    "            break\n",
    "        if msg.error():\n",
    "            print(\"Error:\", msg.error())\n",
    "            break\n",
    "        try:\n",
    "            print(msg.value().decode(\"utf-8\"))\n",
    "        except Exception:\n",
    "            print(msg.value())  # por si es Avro binario\n",
    "        seen += 1\n",
    "    c.close()\n",
    "\n",
    "read_from_beginning(\"org.chicago.cta.station.arrivals.v1\", partition=0, max_msgs=5)\n"
   ]
  },
  {
   "cell_type": "code",
   "execution_count": 5,
   "id": "c4793c62",
   "metadata": {
    "editable": true
   },
   "outputs": [
    {
     "ename": "KafkaException",
     "evalue": "KafkaError{code=_STATE,val=-172,str=\"Failed to seek to offset 0: Local: Erroneous state\"}",
     "output_type": "error",
     "traceback": [
      "\u001b[0;31m---------------------------------------------------------------------------\u001b[0m",
      "\u001b[0;31mKafkaException\u001b[0m                            Traceback (most recent call last)",
      "\u001b[0;32m/tmp/ipykernel_1475/158642102.py\u001b[0m in \u001b[0;36m<module>\u001b[0;34m\u001b[0m\n\u001b[0;32m----> 1\u001b[0;31m \u001b[0mread_from_beginning\u001b[0m\u001b[0;34m(\u001b[0m\u001b[0;34m\"org.chicago.cta.turnstile.entries.v1\"\u001b[0m\u001b[0;34m,\u001b[0m \u001b[0;36m0\u001b[0m\u001b[0;34m,\u001b[0m \u001b[0;36m5\u001b[0m\u001b[0;34m)\u001b[0m\u001b[0;34m\u001b[0m\u001b[0;34m\u001b[0m\u001b[0m\n\u001b[0m",
      "\u001b[0;32m/tmp/ipykernel_1475/1278306698.py\u001b[0m in \u001b[0;36mread_from_beginning\u001b[0;34m(topic, partition, max_msgs, timeout)\u001b[0m\n\u001b[1;32m     12\u001b[0m     \u001b[0;31m# mover a earliest manualmente\u001b[0m\u001b[0;34m\u001b[0m\u001b[0;34m\u001b[0m\u001b[0;34m\u001b[0m\u001b[0m\n\u001b[1;32m     13\u001b[0m     \u001b[0mlow\u001b[0m\u001b[0;34m,\u001b[0m \u001b[0mhigh\u001b[0m \u001b[0;34m=\u001b[0m \u001b[0mc\u001b[0m\u001b[0;34m.\u001b[0m\u001b[0mget_watermark_offsets\u001b[0m\u001b[0;34m(\u001b[0m\u001b[0mtp\u001b[0m\u001b[0;34m,\u001b[0m \u001b[0mtimeout\u001b[0m\u001b[0;34m=\u001b[0m\u001b[0;36m5.0\u001b[0m\u001b[0;34m)\u001b[0m\u001b[0;34m\u001b[0m\u001b[0;34m\u001b[0m\u001b[0m\n\u001b[0;32m---> 14\u001b[0;31m     \u001b[0mc\u001b[0m\u001b[0;34m.\u001b[0m\u001b[0mseek\u001b[0m\u001b[0;34m(\u001b[0m\u001b[0mTopicPartition\u001b[0m\u001b[0;34m(\u001b[0m\u001b[0mtopic\u001b[0m\u001b[0;34m,\u001b[0m \u001b[0mpartition\u001b[0m\u001b[0;34m,\u001b[0m \u001b[0mlow\u001b[0m\u001b[0;34m)\u001b[0m\u001b[0;34m)\u001b[0m\u001b[0;34m\u001b[0m\u001b[0;34m\u001b[0m\u001b[0m\n\u001b[0m\u001b[1;32m     15\u001b[0m     \u001b[0mprint\u001b[0m\u001b[0;34m(\u001b[0m\u001b[0;34mf\"Watermarks {topic}[{partition}]: low={low}, high={high}\"\u001b[0m\u001b[0;34m)\u001b[0m\u001b[0;34m\u001b[0m\u001b[0;34m\u001b[0m\u001b[0m\n\u001b[1;32m     16\u001b[0m \u001b[0;34m\u001b[0m\u001b[0m\n",
      "\u001b[0;31mKafkaException\u001b[0m: KafkaError{code=_STATE,val=-172,str=\"Failed to seek to offset 0: Local: Erroneous state\"}"
     ]
    }
   ],
   "source": [
    "read_from_beginning(\"org.chicago.cta.turnstile.entries.v1\", 0, 5)"
   ]
  },
  {
   "cell_type": "code",
   "execution_count": 6,
   "id": "5c912bb8",
   "metadata": {
    "editable": true
   },
   "outputs": [
    {
     "ename": "KafkaException",
     "evalue": "KafkaError{code=_STATE,val=-172,str=\"Failed to seek to offset 0: Local: Erroneous state\"}",
     "output_type": "error",
     "traceback": [
      "\u001b[0;31m---------------------------------------------------------------------------\u001b[0m",
      "\u001b[0;31mKafkaException\u001b[0m                            Traceback (most recent call last)",
      "\u001b[0;32m/tmp/ipykernel_1475/2120638584.py\u001b[0m in \u001b[0;36m<module>\u001b[0;34m\u001b[0m\n\u001b[0;32m----> 1\u001b[0;31m \u001b[0mread_from_beginning\u001b[0m\u001b[0;34m(\u001b[0m\u001b[0;34m\"org.chicago.cta.weather.v1\"\u001b[0m\u001b[0;34m,\u001b[0m \u001b[0;36m0\u001b[0m\u001b[0;34m,\u001b[0m \u001b[0;36m5\u001b[0m\u001b[0;34m)\u001b[0m\u001b[0;34m\u001b[0m\u001b[0;34m\u001b[0m\u001b[0m\n\u001b[0m",
      "\u001b[0;32m/tmp/ipykernel_1475/1278306698.py\u001b[0m in \u001b[0;36mread_from_beginning\u001b[0;34m(topic, partition, max_msgs, timeout)\u001b[0m\n\u001b[1;32m     12\u001b[0m     \u001b[0;31m# mover a earliest manualmente\u001b[0m\u001b[0;34m\u001b[0m\u001b[0;34m\u001b[0m\u001b[0;34m\u001b[0m\u001b[0m\n\u001b[1;32m     13\u001b[0m     \u001b[0mlow\u001b[0m\u001b[0;34m,\u001b[0m \u001b[0mhigh\u001b[0m \u001b[0;34m=\u001b[0m \u001b[0mc\u001b[0m\u001b[0;34m.\u001b[0m\u001b[0mget_watermark_offsets\u001b[0m\u001b[0;34m(\u001b[0m\u001b[0mtp\u001b[0m\u001b[0;34m,\u001b[0m \u001b[0mtimeout\u001b[0m\u001b[0;34m=\u001b[0m\u001b[0;36m5.0\u001b[0m\u001b[0;34m)\u001b[0m\u001b[0;34m\u001b[0m\u001b[0;34m\u001b[0m\u001b[0m\n\u001b[0;32m---> 14\u001b[0;31m     \u001b[0mc\u001b[0m\u001b[0;34m.\u001b[0m\u001b[0mseek\u001b[0m\u001b[0;34m(\u001b[0m\u001b[0mTopicPartition\u001b[0m\u001b[0;34m(\u001b[0m\u001b[0mtopic\u001b[0m\u001b[0;34m,\u001b[0m \u001b[0mpartition\u001b[0m\u001b[0;34m,\u001b[0m \u001b[0mlow\u001b[0m\u001b[0;34m)\u001b[0m\u001b[0;34m)\u001b[0m\u001b[0;34m\u001b[0m\u001b[0;34m\u001b[0m\u001b[0m\n\u001b[0m\u001b[1;32m     15\u001b[0m     \u001b[0mprint\u001b[0m\u001b[0;34m(\u001b[0m\u001b[0;34mf\"Watermarks {topic}[{partition}]: low={low}, high={high}\"\u001b[0m\u001b[0;34m)\u001b[0m\u001b[0;34m\u001b[0m\u001b[0;34m\u001b[0m\u001b[0m\n\u001b[1;32m     16\u001b[0m \u001b[0;34m\u001b[0m\u001b[0m\n",
      "\u001b[0;31mKafkaException\u001b[0m: KafkaError{code=_STATE,val=-172,str=\"Failed to seek to offset 0: Local: Erroneous state\"}"
     ]
    }
   ],
   "source": [
    "read_from_beginning(\"org.chicago.cta.weather.v1\", 0, 5)"
   ]
  },
  {
   "cell_type": "code",
   "execution_count": 7,
   "id": "84cf8f50",
   "metadata": {
    "editable": true
   },
   "outputs": [
    {
     "ename": "KafkaException",
     "evalue": "KafkaError{code=_STATE,val=-172,str=\"Failed to seek to offset 0: Local: Erroneous state\"}",
     "output_type": "error",
     "traceback": [
      "\u001b[0;31m---------------------------------------------------------------------------\u001b[0m",
      "\u001b[0;31mKafkaException\u001b[0m                            Traceback (most recent call last)",
      "\u001b[0;32m/tmp/ipykernel_1475/4107628152.py\u001b[0m in \u001b[0;36m<module>\u001b[0;34m\u001b[0m\n\u001b[0;32m----> 1\u001b[0;31m \u001b[0mread_from_beginning\u001b[0m\u001b[0;34m(\u001b[0m\u001b[0;34m\"org.chicago.cta.stations\"\u001b[0m\u001b[0;34m,\u001b[0m \u001b[0;36m0\u001b[0m\u001b[0;34m,\u001b[0m \u001b[0;36m5\u001b[0m\u001b[0;34m)\u001b[0m\u001b[0;34m\u001b[0m\u001b[0;34m\u001b[0m\u001b[0m\n\u001b[0m",
      "\u001b[0;32m/tmp/ipykernel_1475/1278306698.py\u001b[0m in \u001b[0;36mread_from_beginning\u001b[0;34m(topic, partition, max_msgs, timeout)\u001b[0m\n\u001b[1;32m     12\u001b[0m     \u001b[0;31m# mover a earliest manualmente\u001b[0m\u001b[0;34m\u001b[0m\u001b[0;34m\u001b[0m\u001b[0;34m\u001b[0m\u001b[0m\n\u001b[1;32m     13\u001b[0m     \u001b[0mlow\u001b[0m\u001b[0;34m,\u001b[0m \u001b[0mhigh\u001b[0m \u001b[0;34m=\u001b[0m \u001b[0mc\u001b[0m\u001b[0;34m.\u001b[0m\u001b[0mget_watermark_offsets\u001b[0m\u001b[0;34m(\u001b[0m\u001b[0mtp\u001b[0m\u001b[0;34m,\u001b[0m \u001b[0mtimeout\u001b[0m\u001b[0;34m=\u001b[0m\u001b[0;36m5.0\u001b[0m\u001b[0;34m)\u001b[0m\u001b[0;34m\u001b[0m\u001b[0;34m\u001b[0m\u001b[0m\n\u001b[0;32m---> 14\u001b[0;31m     \u001b[0mc\u001b[0m\u001b[0;34m.\u001b[0m\u001b[0mseek\u001b[0m\u001b[0;34m(\u001b[0m\u001b[0mTopicPartition\u001b[0m\u001b[0;34m(\u001b[0m\u001b[0mtopic\u001b[0m\u001b[0;34m,\u001b[0m \u001b[0mpartition\u001b[0m\u001b[0;34m,\u001b[0m \u001b[0mlow\u001b[0m\u001b[0;34m)\u001b[0m\u001b[0;34m)\u001b[0m\u001b[0;34m\u001b[0m\u001b[0;34m\u001b[0m\u001b[0m\n\u001b[0m\u001b[1;32m     15\u001b[0m     \u001b[0mprint\u001b[0m\u001b[0;34m(\u001b[0m\u001b[0;34mf\"Watermarks {topic}[{partition}]: low={low}, high={high}\"\u001b[0m\u001b[0;34m)\u001b[0m\u001b[0;34m\u001b[0m\u001b[0;34m\u001b[0m\u001b[0m\n\u001b[1;32m     16\u001b[0m \u001b[0;34m\u001b[0m\u001b[0m\n",
      "\u001b[0;31mKafkaException\u001b[0m: KafkaError{code=_STATE,val=-172,str=\"Failed to seek to offset 0: Local: Erroneous state\"}"
     ]
    }
   ],
   "source": [
    "read_from_beginning(\"org.chicago.cta.stations\", 0, 5)"
   ]
  },
  {
   "cell_type": "code",
   "execution_count": 9,
   "id": "d9842609",
   "metadata": {
    "editable": true
   },
   "outputs": [],
   "source": [
    "from confluent_kafka import Consumer, TopicPartition, OFFSET_BEGINNING\n",
    "\n",
    "def dump_topic_all_partitions(topic, max_msgs_per_part=5, timeout=5.0):\n",
    "    c = Consumer({\n",
    "        \"bootstrap.servers\": \"localhost:9092\",\n",
    "        \"group.id\": f\"adhoc-dump-{topic}\",\n",
    "        \"enable.auto.commit\": False,\n",
    "        \"auto.offset.reset\": \"earliest\",\n",
    "    })\n",
    "\n",
    "    # Descubrir particiones del tópico\n",
    "    md = c.list_topics(topic, timeout=5.0)\n",
    "    if topic not in md.topics:\n",
    "        print(f\"El tópico no existe: {topic}\")\n",
    "        c.close()\n",
    "        return\n",
    "    partitions = sorted(md.topics[topic].partitions.keys())\n",
    "    print(f\"Particiones de {topic}: {partitions}\")\n",
    "\n",
    "    for p in partitions:\n",
    "        tp = TopicPartition(topic, p, OFFSET_BEGINNING)\n",
    "        c.assign([tp])\n",
    "\n",
    "        # MUY IMPORTANTE: permitir que la asignación se aplique\n",
    "        c.poll(0.1)\n",
    "\n",
    "        low, high = c.get_watermark_offsets(TopicPartition(topic, p), timeout=5.0)\n",
    "        print(f\"[{topic}][{p}] watermarks low={low} high={high}\")\n",
    "\n",
    "        seen = 0\n",
    "        while seen < max_msgs_per_part:\n",
    "            msg = c.poll(timeout)\n",
    "            if msg is None:\n",
    "                print(f\"[{topic}][{p}] (timeout, no hay más mensajes)\")\n",
    "                break\n",
    "            if msg.error():\n",
    "                print(f\"[{topic}][{p}] error:\", msg.error())\n",
    "                break\n",
    "            try:\n",
    "                print(f\"[{topic}][{p}]\", msg.value().decode(\"utf-8\"))\n",
    "            except Exception:\n",
    "                # Si es Avro binario, no se puede decodificar a UTF-8\n",
    "                print(f\"[{topic}][{p}] (bytes Avro) len=\", len(msg.value()))\n",
    "            seen += 1\n",
    "\n",
    "        # Desasignar antes de pasar a la siguiente partición\n",
    "        c.unassign()\n",
    "\n",
    "    c.close()"
   ]
  },
  {
   "cell_type": "code",
   "execution_count": 10,
   "id": "36c6a0ad",
   "metadata": {
    "editable": true
   },
   "outputs": [
    {
     "name": "stdout",
     "output_type": "stream",
     "text": [
      "Particiones de org.chicago.cta.station.arrivals.v1: [0, 1, 2]\n",
      "[org.chicago.cta.station.arrivals.v1][0] watermarks low=0 high=557\n",
      "[org.chicago.cta.station.arrivals.v1][0] (bytes Avro) len= 34\n",
      "[org.chicago.cta.station.arrivals.v1][0] (bytes Avro) len= 34\n",
      "[org.chicago.cta.station.arrivals.v1][0] (bytes Avro) len= 33\n",
      "[org.chicago.cta.station.arrivals.v1][0] (bytes Avro) len= 33\n",
      "[org.chicago.cta.station.arrivals.v1][0] (bytes Avro) len= 35\n",
      "[org.chicago.cta.station.arrivals.v1][1] watermarks low=0 high=559\n",
      "[org.chicago.cta.station.arrivals.v1][1] (bytes Avro) len= 34\n",
      "[org.chicago.cta.station.arrivals.v1][1] (bytes Avro) len= 34\n",
      "[org.chicago.cta.station.arrivals.v1][1] (bytes Avro) len= 34\n",
      "[org.chicago.cta.station.arrivals.v1][1] (bytes Avro) len= 34\n",
      "[org.chicago.cta.station.arrivals.v1][1] (bytes Avro) len= 34\n",
      "[org.chicago.cta.station.arrivals.v1][2] watermarks low=0 high=534\n",
      "[org.chicago.cta.station.arrivals.v1][2] (bytes Avro) len= 34\n",
      "[org.chicago.cta.station.arrivals.v1][2] (bytes Avro) len= 33\n",
      "[org.chicago.cta.station.arrivals.v1][2] \u0000\u0000\u0000\u0000\u0001Ѐ\u0005\n",
      "RL007\u0002a\u0006red\u0014in_service\u0000\u0000\n",
      "[org.chicago.cta.station.arrivals.v1][2] (bytes Avro) len= 33\n",
      "[org.chicago.cta.station.arrivals.v1][2] (bytes Avro) len= 33\n"
     ]
    }
   ],
   "source": [
    "dump_topic_all_partitions(\"org.chicago.cta.station.arrivals.v1\", 5)"
   ]
  },
  {
   "cell_type": "code",
   "execution_count": 11,
   "id": "f1c4528d",
   "metadata": {
    "editable": true
   },
   "outputs": [
    {
     "name": "stdout",
     "output_type": "stream",
     "text": [
      "Particiones de org.chicago.cta.turnstile.entries.v1: [0, 1, 2]\n",
      "[org.chicago.cta.turnstile.entries.v1][0] watermarks low=0 high=1673\n",
      "[org.chicago.cta.turnstile.entries.v1][0] (bytes Avro) len= 20\n",
      "[org.chicago.cta.turnstile.entries.v1][0] (bytes Avro) len= 28\n",
      "[org.chicago.cta.turnstile.entries.v1][0] (bytes Avro) len= 35\n",
      "[org.chicago.cta.turnstile.entries.v1][0] (bytes Avro) len= 21\n",
      "[org.chicago.cta.turnstile.entries.v1][0] (bytes Avro) len= 21\n",
      "[org.chicago.cta.turnstile.entries.v1][1] watermarks low=0 high=1822\n",
      "[org.chicago.cta.turnstile.entries.v1][1] (bytes Avro) len= 28\n",
      "[org.chicago.cta.turnstile.entries.v1][1] (bytes Avro) len= 22\n",
      "[org.chicago.cta.turnstile.entries.v1][1] (bytes Avro) len= 22\n",
      "[org.chicago.cta.turnstile.entries.v1][1] (bytes Avro) len= 24\n",
      "[org.chicago.cta.turnstile.entries.v1][1] (bytes Avro) len= 24\n",
      "[org.chicago.cta.turnstile.entries.v1][2] watermarks low=0 high=1867\n",
      "[org.chicago.cta.turnstile.entries.v1][2] (bytes Avro) len= 20\n",
      "[org.chicago.cta.turnstile.entries.v1][2] (bytes Avro) len= 20\n",
      "[org.chicago.cta.turnstile.entries.v1][2] (bytes Avro) len= 20\n",
      "[org.chicago.cta.turnstile.entries.v1][2] (bytes Avro) len= 39\n",
      "[org.chicago.cta.turnstile.entries.v1][2] (bytes Avro) len= 25\n"
     ]
    }
   ],
   "source": [
    "dump_topic_all_partitions(\"org.chicago.cta.turnstile.entries.v1\", 5)"
   ]
  },
  {
   "cell_type": "code",
   "execution_count": 12,
   "id": "3e291ddd",
   "metadata": {
    "editable": true
   },
   "outputs": [
    {
     "name": "stdout",
     "output_type": "stream",
     "text": [
      "Particiones de org.chicago.cta.weather.v1: [0, 1, 2]\n",
      "[org.chicago.cta.weather.v1][0] watermarks low=0 high=0\n",
      "[org.chicago.cta.weather.v1][0] (timeout, no hay más mensajes)\n",
      "[org.chicago.cta.weather.v1][1] watermarks low=0 high=3\n",
      "[org.chicago.cta.weather.v1][1] (bytes Avro) len= 16\n",
      "[org.chicago.cta.weather.v1][1] (bytes Avro) len= 15\n",
      "[org.chicago.cta.weather.v1][1] (timeout, no hay más mensajes)\n",
      "[org.chicago.cta.weather.v1][2] watermarks low=0 high=2\n",
      "[org.chicago.cta.weather.v1][2] (bytes Avro) len= 23\n",
      "[org.chicago.cta.weather.v1][2] (bytes Avro) len= 23\n",
      "[org.chicago.cta.weather.v1][2] (timeout, no hay más mensajes)\n"
     ]
    }
   ],
   "source": [
    "dump_topic_all_partitions(\"org.chicago.cta.weather.v1\", 5)"
   ]
  },
  {
   "cell_type": "code",
   "execution_count": 13,
   "id": "7bbaf92f",
   "metadata": {
    "editable": true
   },
   "outputs": [],
   "source": [
    "from confluent_kafka.avro import AvroConsumer\n",
    "from confluent_kafka import TopicPartition, OFFSET_BEGINNING\n",
    "\n",
    "def dump_avro_all_partitions(topic, max_msgs_per_part=5, timeout=5.0):\n",
    "    c = AvroConsumer({\n",
    "        \"bootstrap.servers\": \"localhost:9092\",\n",
    "        \"group.id\": f\"adhoc-avro-{topic}\",\n",
    "        \"enable.auto.commit\": False,\n",
    "        \"schema.registry.url\": \"http://localhost:8081\",\n",
    "        \"auto.offset.reset\": \"earliest\",\n",
    "    })\n",
    "    md = c.list_topics(topic, timeout=5.0)\n",
    "    parts = sorted(md.topics[topic].partitions.keys())\n",
    "    print(f\"Particiones de {topic}: {parts}\")\n",
    "    for p in parts:\n",
    "        tp = TopicPartition(topic, p, OFFSET_BEGINNING)\n",
    "        c.assign([tp])\n",
    "        c.poll(0.1)  # importante para aplicar la asignación\n",
    "        low, high = c.get_watermark_offsets(TopicPartition(topic, p), timeout=5.0)\n",
    "        print(f\"[{topic}][{p}] low={low} high={high}\")\n",
    "        seen = 0\n",
    "        while seen < max_msgs_per_part:\n",
    "            msg = c.poll(timeout)\n",
    "            if msg is None:\n",
    "                print(f\"[{topic}][{p}] (timeout)\")\n",
    "                break\n",
    "            if msg.error():\n",
    "                print(f\"[{topic}][{p}] error:\", msg.error())\n",
    "                break\n",
    "            print(f\"[{topic}][{p}] value=\", msg.value())  # <-- dict Avro\n",
    "            seen += 1\n",
    "        c.unassign()\n",
    "    c.close()"
   ]
  },
  {
   "cell_type": "code",
   "execution_count": 14,
   "id": "982b7055",
   "metadata": {
    "editable": true
   },
   "outputs": [
    {
     "name": "stdout",
     "output_type": "stream",
     "text": [
      "Particiones de org.chicago.cta.station.arrivals.v1: [0, 1, 2]\n",
      "[org.chicago.cta.station.arrivals.v1][0] low=0 high=846\n",
      "[org.chicago.cta.station.arrivals.v1][0] value= {'station_id': 40890, 'train_id': 'BL000', 'direction': 'b', 'line': 'blue', 'train_status': 'in_service', 'prev_station_id': None, 'prev_direction': None}\n",
      "[org.chicago.cta.station.arrivals.v1][0] value= {'station_id': 41410, 'train_id': 'BL008', 'direction': 'a', 'line': 'blue', 'train_status': 'in_service', 'prev_station_id': None, 'prev_direction': None}\n",
      "[org.chicago.cta.station.arrivals.v1][0] value= {'station_id': 41420, 'train_id': 'RL002', 'direction': 'b', 'line': 'red', 'train_status': 'in_service', 'prev_station_id': None, 'prev_direction': None}\n",
      "[org.chicago.cta.station.arrivals.v1][1] low=0 high=889\n",
      "[org.chicago.cta.station.arrivals.v1][1] value= {'station_id': 40590, 'train_id': 'BL002', 'direction': 'b', 'line': 'blue', 'train_status': 'in_service', 'prev_station_id': None, 'prev_direction': None}\n",
      "[org.chicago.cta.station.arrivals.v1][1] value= {'station_id': 40790, 'train_id': 'BL003', 'direction': 'b', 'line': 'blue', 'train_status': 'in_service', 'prev_station_id': None, 'prev_direction': None}\n",
      "[org.chicago.cta.station.arrivals.v1][1] value= {'station_id': 41340, 'train_id': 'BL007', 'direction': 'a', 'line': 'blue', 'train_status': 'in_service', 'prev_station_id': None, 'prev_direction': None}\n",
      "[org.chicago.cta.station.arrivals.v1][2] low=0 high=815\n",
      "[org.chicago.cta.station.arrivals.v1][2] value= {'station_id': 40550, 'train_id': 'BL001', 'direction': 'b', 'line': 'blue', 'train_status': 'in_service', 'prev_station_id': None, 'prev_direction': None}\n",
      "[org.chicago.cta.station.arrivals.v1][2] value= {'station_id': 41420, 'train_id': 'RL009', 'direction': 'a', 'line': 'red', 'train_status': 'in_service', 'prev_station_id': None, 'prev_direction': None}\n",
      "[org.chicago.cta.station.arrivals.v1][2] value= {'station_id': 41000, 'train_id': 'RL007', 'direction': 'a', 'line': 'red', 'train_status': 'in_service', 'prev_station_id': None, 'prev_direction': None}\n"
     ]
    }
   ],
   "source": [
    "dump_avro_all_partitions(\"org.chicago.cta.station.arrivals.v1\", 3)"
   ]
  },
  {
   "cell_type": "code",
   "execution_count": 15,
   "id": "cbed4dc0",
   "metadata": {
    "editable": true
   },
   "outputs": [
    {
     "name": "stdout",
     "output_type": "stream",
     "text": [
      "Particiones de org.chicago.cta.turnstile.entries.v1: [0, 1, 2]\n",
      "[org.chicago.cta.turnstile.entries.v1][0] low=0 high=2672\n",
      "[org.chicago.cta.turnstile.entries.v1][0] value= {'station_id': 40750, 'station_name': 'Harlem', 'line': 'blue'}\n",
      "[org.chicago.cta.turnstile.entries.v1][0] value= {'station_id': 41280, 'station_name': 'Jefferson Park', 'line': 'blue'}\n",
      "[org.chicago.cta.turnstile.entries.v1][0] value= {'station_id': 40670, 'station_name': \"Western/O'Hare Branch\", 'line': 'blue'}\n",
      "[org.chicago.cta.turnstile.entries.v1][1] low=0 high=2935\n",
      "[org.chicago.cta.turnstile.entries.v1][1] value= {'station_id': 41330, 'station_name': 'Montrose', 'line': 'blue'}\n",
      "[org.chicago.cta.turnstile.entries.v1][1] value= {'station_id': 41330, 'station_name': 'Montrose', 'line': 'blue'}\n",
      "[org.chicago.cta.turnstile.entries.v1][1] value= {'station_id': 40570, 'station_name': 'California', 'line': 'blue'}\n",
      "[org.chicago.cta.turnstile.entries.v1][2] low=0 high=2985\n",
      "[org.chicago.cta.turnstile.entries.v1][2] value= {'station_id': 40890, 'station_name': \"O'Hare\", 'line': 'blue'}\n",
      "[org.chicago.cta.turnstile.entries.v1][2] value= {'station_id': 40890, 'station_name': \"O'Hare\", 'line': 'blue'}\n",
      "[org.chicago.cta.turnstile.entries.v1][2] value= {'station_id': 40890, 'station_name': \"O'Hare\", 'line': 'blue'}\n"
     ]
    }
   ],
   "source": [
    "dump_avro_all_partitions(\"org.chicago.cta.turnstile.entries.v1\", 3)"
   ]
  },
  {
   "cell_type": "code",
   "execution_count": 16,
   "id": "d2f6fd53",
   "metadata": {
    "editable": true
   },
   "outputs": [
    {
     "name": "stdout",
     "output_type": "stream",
     "text": [
      "Particiones de org.chicago.cta.weather.v1: [0, 1, 2]\n",
      "[org.chicago.cta.weather.v1][0] low=0 high=0\n",
      "[org.chicago.cta.weather.v1][0] (timeout)\n",
      "[org.chicago.cta.weather.v1][1] low=0 high=5\n",
      "[org.chicago.cta.weather.v1][1] value= {'temperature': 68.16808319091797, 'status': 'cloudy'}\n",
      "[org.chicago.cta.weather.v1][1] value= {'temperature': 67.00574493408203, 'status': 'windy'}\n",
      "[org.chicago.cta.weather.v1][1] value= {'temperature': 68.1431655883789, 'status': 'sunny'}\n",
      "[org.chicago.cta.weather.v1][2] low=0 high=3\n",
      "[org.chicago.cta.weather.v1][2] value= {'temperature': 66.28805541992188, 'status': 'precipitation'}\n",
      "[org.chicago.cta.weather.v1][2] value= {'temperature': 68.92756652832031, 'status': 'precipitation'}\n",
      "[org.chicago.cta.weather.v1][2] (timeout)\n"
     ]
    }
   ],
   "source": [
    "dump_avro_all_partitions(\"org.chicago.cta.weather.v1\", 3)"
   ]
  },
  {
   "cell_type": "code",
   "execution_count": 17,
   "id": "1e96d358",
   "metadata": {
    "editable": true
   },
   "outputs": [
    {
     "name": "stdout",
     "output_type": "stream",
     "text": [
      "Particiones de org.chicago.cta.stations: [0]\n",
      "[org.chicago.cta.stations][0] watermarks low=0 high=230\n",
      "[org.chicago.cta.stations][0] {\"stop_id\":30001,\"direction_id\":\"E\",\"stop_name\":\"Austin (O'Hare-bound)\",\"station_name\":\"Austin\",\"station_descriptive_name\":\"Austin (Blue Line)\",\"station_id\":40010,\"order\":29,\"red\":false,\"blue\":true,\"green\":false}\n",
      "[org.chicago.cta.stations][0] {\"stop_id\":30002,\"direction_id\":\"W\",\"stop_name\":\"Austin (Forest Pk-bound)\",\"station_name\":\"Austin\",\"station_descriptive_name\":\"Austin (Blue Line)\",\"station_id\":40010,\"order\":29,\"red\":false,\"blue\":true,\"green\":false}\n",
      "[org.chicago.cta.stations][0] {\"stop_id\":30003,\"direction_id\":\"E\",\"stop_name\":\"Harlem (63rd-bound)\",\"station_name\":\"Harlem/Lake\",\"station_descriptive_name\":\"Harlem/Lake (Green Line)\",\"station_id\":40020,\"order\":0,\"red\":false,\"blue\":false,\"green\":true}\n",
      "[org.chicago.cta.stations][0] {\"stop_id\":30004,\"direction_id\":\"W\",\"stop_name\":\"Harlem (Terminal arrival)\",\"station_name\":\"Harlem/Lake\",\"station_descriptive_name\":\"Harlem/Lake (Green Line)\",\"station_id\":40020,\"order\":0,\"red\":false,\"blue\":false,\"green\":true}\n",
      "[org.chicago.cta.stations][0] {\"stop_id\":30005,\"direction_id\":\"E\",\"stop_name\":\"Pulaski (63rd-bound)\",\"station_name\":\"Pulaski\",\"station_descriptive_name\":\"Pulaski (Green Line)\",\"station_id\":40030,\"order\":7,\"red\":false,\"blue\":false,\"green\":true}\n"
     ]
    }
   ],
   "source": [
    "dump_topic_all_partitions(\"org.chicago.cta.stations\", 5)  # el helper JSON que ya usaste"
   ]
  },
  {
   "cell_type": "code",
   "execution_count": 18,
   "id": "43dd2955",
   "metadata": {
    "editable": true
   },
   "outputs": [
    {
     "name": "stdout",
     "output_type": "stream",
     "text": [
      "Particiones de org.chicago.cta.stations.table.v1: [0]\n",
      "[org.chicago.cta.stations.table.v1][0] watermarks low=0 high=460\n",
      "[org.chicago.cta.stations.table.v1][0] {\"station_id\": 40010, \"station_name\": \"Austin\", \"order\": 29, \"line\": \"blue\", \"__faust\": {\"ns\": \"faust_stream.TransformedStation\"}}\n",
      "[org.chicago.cta.stations.table.v1][0] {\"station_id\": 40010, \"station_name\": \"Austin\", \"order\": 29, \"line\": \"blue\", \"__faust\": {\"ns\": \"faust_stream.TransformedStation\"}}\n",
      "[org.chicago.cta.stations.table.v1][0] {\"station_id\": 40010, \"station_name\": \"Austin\", \"order\": 29, \"line\": \"blue\"}\n",
      "[org.chicago.cta.stations.table.v1][0] {\"station_id\": 40010, \"station_name\": \"Austin\", \"order\": 29, \"line\": \"blue\"}\n",
      "[org.chicago.cta.stations.table.v1][0] {\"station_id\": 40020, \"station_name\": \"Harlem/Lake\", \"order\": 0, \"line\": \"green\", \"__faust\": {\"ns\": \"faust_stream.TransformedStation\"}}\n"
     ]
    }
   ],
   "source": [
    "dump_topic_all_partitions(\"org.chicago.cta.stations.table.v1\", 5)"
   ]
  },
  {
   "cell_type": "code",
   "execution_count": 19,
   "id": "fe9dbed8",
   "metadata": {
    "editable": true
   },
   "outputs": [
    {
     "name": "stdout",
     "output_type": "stream",
     "text": [
      "Particiones de TURNSTILE_SUMMARY: [0, 1, 2, 3]\n",
      "[TURNSTILE_SUMMARY][0] watermarks low=0 high=753\n",
      "[TURNSTILE_SUMMARY][0] {\"STATION_ID\":40220,\"COUNT\":3}\n",
      "[TURNSTILE_SUMMARY][0] {\"STATION_ID\":40970,\"COUNT\":6}\n",
      "[TURNSTILE_SUMMARY][0] {\"STATION_ID\":40020,\"COUNT\":5}\n",
      "[TURNSTILE_SUMMARY][0] {\"STATION_ID\":40390,\"COUNT\":3}\n",
      "[TURNSTILE_SUMMARY][0] {\"STATION_ID\":40330,\"COUNT\":15}\n",
      "[TURNSTILE_SUMMARY][1] watermarks low=0 high=1206\n",
      "[TURNSTILE_SUMMARY][1] {\"STATION_ID\":40180,\"COUNT\":2}\n",
      "[TURNSTILE_SUMMARY][1] {\"STATION_ID\":40760,\"COUNT\":4}\n",
      "[TURNSTILE_SUMMARY][1] {\"STATION_ID\":40900,\"COUNT\":3}\n",
      "[TURNSTILE_SUMMARY][1] {\"STATION_ID\":41280,\"COUNT\":3}\n",
      "[TURNSTILE_SUMMARY][1] {\"STATION_ID\":41080,\"COUNT\":1}\n",
      "[TURNSTILE_SUMMARY][2] watermarks low=0 high=1015\n",
      "[TURNSTILE_SUMMARY][2] {\"STATION_ID\":40470,\"COUNT\":2}\n",
      "[TURNSTILE_SUMMARY][2] {\"STATION_ID\":41120,\"COUNT\":1}\n",
      "[TURNSTILE_SUMMARY][2] {\"STATION_ID\":40940,\"COUNT\":1}\n",
      "[TURNSTILE_SUMMARY][2] {\"STATION_ID\":41360,\"COUNT\":3}\n",
      "[TURNSTILE_SUMMARY][2] {\"STATION_ID\":41400,\"COUNT\":8}\n",
      "[TURNSTILE_SUMMARY][3] watermarks low=0 high=1002\n",
      "[TURNSTILE_SUMMARY][3] {\"STATION_ID\":40890,\"COUNT\":3}\n",
      "[TURNSTILE_SUMMARY][3] {\"STATION_ID\":40650,\"COUNT\":8}\n",
      "[TURNSTILE_SUMMARY][3] {\"STATION_ID\":40260,\"COUNT\":7}\n",
      "[TURNSTILE_SUMMARY][3] {\"STATION_ID\":40230,\"COUNT\":4}\n",
      "[TURNSTILE_SUMMARY][3] {\"STATION_ID\":40540,\"COUNT\":1}\n"
     ]
    }
   ],
   "source": [
    "dump_topic_all_partitions(\"TURNSTILE_SUMMARY\", 5)"
   ]
  },
  {
   "cell_type": "code",
   "execution_count": null,
   "id": "5c3355ce",
   "metadata": {
    "editable": true
   },
   "outputs": [],
   "source": []
  }
 ],
 "metadata": {
  "kernelspec": {
   "display_name": "Python 3 (ipykernel)",
   "language": "python",
   "name": "python3"
  },
  "language_info": {
   "codemirror_mode": {
    "name": "ipython",
    "version": 3
   },
   "file_extension": ".py",
   "mimetype": "text/x-python",
   "name": "python",
   "nbconvert_exporter": "python",
   "pygments_lexer": "ipython3",
   "version": "3.7.3"
  }
 },
 "nbformat": 4,
 "nbformat_minor": 5
}
